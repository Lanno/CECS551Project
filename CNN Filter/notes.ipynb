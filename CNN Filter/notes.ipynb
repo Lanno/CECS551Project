{
 "cells": [
  {
   "cell_type": "markdown",
   "metadata": {},
   "source": [
    "Would it be better to generate a mask, rather than generate the target directly?\n",
    "\n",
    "Yes it is, changing to the mask improve accuracy to 80% from a best of 65%"
   ]
  },
  {
   "cell_type": "code",
   "execution_count": null,
   "metadata": {},
   "outputs": [],
   "source": [
    "model = Sequential()\n",
    "\n",
    "model.add(Conv1D(16, 2, padding=\"same\", input_shape=mix_train.shape[1:], activation=\"relu\", name=\"Conv1D_1\"))\n",
    "model.add(MaxPooling1D(2, padding=\"same\", name=\"MaxPooling_1\"))\n",
    "\n",
    "model.add(Conv1D(8, 2, padding=\"same\",  activation=\"relu\", name=\"Conv1D_2\"))\n",
    "model.add(MaxPooling1D(2, padding=\"same\", name=\"MaxPooling_2\"))\n",
    "\n",
    "model.add(Conv1D(4, 2, padding=\"same\",  activation=\"relu\", name=\"Conv1D_3\"))\n",
    "model.add(MaxPooling1D(2, padding=\"same\", name=\"MaxPooling_3\"))\n",
    "\n",
    "model.add(Conv1D(4, 2, padding=\"same\",  activation=\"relu\", name=\"Conv1D_4\"))\n",
    "model.add(UpSampling1D(2, name=\"UpSampling_1\"))\n",
    "\n",
    "model.add(Conv1D(8, 2, padding=\"same\",  activation=\"relu\", name=\"Conv1D_5\"))\n",
    "model.add(UpSampling1D(2, name=\"UpSampling_2\"))\n",
    "\n",
    "model.add(Conv1D(16, 2, padding=\"same\",  activation=\"relu\", name=\"Conv1D_6\"))\n",
    "model.add(UpSampling1D(2, name=\"UpSampling_3\"))\n",
    "\n",
    "model.add(Conv1D(2, 2, padding=\"same\",  name=\"Conv1D_7\"))\n",
    "\n",
    "model.summary()"
   ]
  }
 ],
 "metadata": {
  "kernelspec": {
   "display_name": "Python 3",
   "language": "python",
   "name": "python3"
  },
  "language_info": {
   "codemirror_mode": {
    "name": "ipython",
    "version": 3
   },
   "file_extension": ".py",
   "mimetype": "text/x-python",
   "name": "python",
   "nbconvert_exporter": "python",
   "pygments_lexer": "ipython3",
   "version": "3.7.1"
  }
 },
 "nbformat": 4,
 "nbformat_minor": 2
}
